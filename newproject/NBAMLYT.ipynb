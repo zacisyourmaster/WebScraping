{
 "cells": [
  {
   "cell_type": "code",
   "execution_count": 10,
   "metadata": {},
   "outputs": [],
   "source": [
    "import requests\n",
    "years= list(range(1991,2024))\n",
    "url_start='https://www.basketball-reference.com/awards/awards_{}.html'"
   ]
  },
  {
   "cell_type": "code",
   "execution_count": 5,
   "metadata": {},
   "outputs": [],
   "source": [
    "for year in years:\n",
    "    url=url_start.format(year)\n",
    "    data=requests.get(url)\n",
    "    \n",
    "    with open(\"mvp/{}.html\".format(year), \"w+\",encoding='utf-8') as f:\n",
    "        f.write(data.text)"
   ]
  },
  {
   "cell_type": "code",
   "execution_count": 14,
   "metadata": {},
   "outputs": [],
   "source": [
    "from bs4 import BeautifulSoup"
   ]
  },
  {
   "cell_type": "code",
   "execution_count": 10,
   "metadata": {},
   "outputs": [],
   "source": [
    "with open(\"mvp/1991.html\", encoding='utf-8') as f:\n",
    "    page=f.read()"
   ]
  },
  {
   "cell_type": "code",
   "execution_count": 15,
   "metadata": {},
   "outputs": [],
   "source": [
    "soup=BeautifulSoup(page,'html.parser')"
   ]
  },
  {
   "cell_type": "code",
   "execution_count": 14,
   "metadata": {},
   "outputs": [],
   "source": [
    "soup.find('tr', class_=\"over_header\").decompose()"
   ]
  },
  {
   "cell_type": "code",
   "execution_count": 18,
   "metadata": {},
   "outputs": [],
   "source": [
    "mvp_table=soup.find(id='mvp')"
   ]
  },
  {
   "cell_type": "code",
   "execution_count": 20,
   "metadata": {},
   "outputs": [],
   "source": [
    "import pandas as pd\n",
    "from io import StringIO"
   ]
  },
  {
   "cell_type": "code",
   "execution_count": 24,
   "metadata": {},
   "outputs": [],
   "source": [
    "mvp_1991=pd.read_html(StringIO(str(mvp_table)))[0]"
   ]
  },
  {
   "cell_type": "code",
   "execution_count": 32,
   "metadata": {},
   "outputs": [],
   "source": [
    "dfs=[]\n",
    "for year in years:\n",
    "    with open(\"mvp/{}.html\".format(year),encoding=\"utf-8\") as f:\n",
    "        page=f.read()\n",
    "    soup=BeautifulSoup(page,'html.parser')\n",
    "    soup.find('tr', class_=\"over_header\").decompose()\n",
    "    mvp_table=soup.find(id='mvp')\n",
    "    mvp=pd.read_html(StringIO(str(mvp_table)))[0]\n",
    "    mvp[\"Year\"]=year\n",
    "    dfs.append(mvp)\n"
   ]
  },
  {
   "cell_type": "code",
   "execution_count": 33,
   "metadata": {},
   "outputs": [],
   "source": [
    "mvps=pd.concat(dfs)"
   ]
  },
  {
   "cell_type": "code",
   "execution_count": 38,
   "metadata": {},
   "outputs": [],
   "source": [
    "mvps.to_csv(\"mvps.csv\")"
   ]
  },
  {
   "cell_type": "code",
   "execution_count": 7,
   "metadata": {},
   "outputs": [],
   "source": [
    "player_stats_url=\"https://www.basketball-reference.com/leagues/NBA_{}_per_game.html\"\n",
    "url=player_stats_url.format(1991)\n",
    "data=requests.get(url)\n",
    "with open(\"player/1991.html\",\"w+\",encoding='utf-8') as f:\n",
    "    f.write(data.text)"
   ]
  },
  {
   "cell_type": "code",
   "execution_count": 8,
   "metadata": {},
   "outputs": [],
   "source": [
    "from selenium import webdriver"
   ]
  },
  {
   "cell_type": "code",
   "execution_count": null,
   "metadata": {},
   "outputs": [],
   "source": []
  },
  {
   "cell_type": "code",
   "execution_count": 9,
   "metadata": {},
   "outputs": [
    {
     "ename": "TimeoutException",
     "evalue": "Message: \nStacktrace:\n\tGetHandleVerifier [0x00007FF6DBE24D02+56194]\n\t(No symbol) [0x00007FF6DBD904B2]\n\t(No symbol) [0x00007FF6DBC376AA]\n\t(No symbol) [0x00007FF6DBC816D0]\n\t(No symbol) [0x00007FF6DBC817EC]\n\t(No symbol) [0x00007FF6DBCC4D77]\n\t(No symbol) [0x00007FF6DBCA5EBF]\n\t(No symbol) [0x00007FF6DBCC2786]\n\t(No symbol) [0x00007FF6DBCA5C23]\n\t(No symbol) [0x00007FF6DBC74A45]\n\t(No symbol) [0x00007FF6DBC75AD4]\n\tGetHandleVerifier [0x00007FF6DC19D5BB+3695675]\n\tGetHandleVerifier [0x00007FF6DC1F6197+4059159]\n\tGetHandleVerifier [0x00007FF6DC1EDF63+4025827]\n\tGetHandleVerifier [0x00007FF6DBEBF029+687785]\n\t(No symbol) [0x00007FF6DBD9B508]\n\t(No symbol) [0x00007FF6DBD97564]\n\t(No symbol) [0x00007FF6DBD976E9]\n\t(No symbol) [0x00007FF6DBD88094]\n\tBaseThreadInitThunk [0x00007FFB9CC7257D+29]\n\tRtlUserThreadStart [0x00007FFB9E36AA58+40]\n",
     "output_type": "error",
     "traceback": [
      "\u001b[1;31m---------------------------------------------------------------------------\u001b[0m",
      "\u001b[1;31mTimeoutException\u001b[0m                          Traceback (most recent call last)",
      "Cell \u001b[1;32mIn[9], line 14\u001b[0m\n\u001b[0;32m     12\u001b[0m \u001b[38;5;66;03m# Use WebDriverWait to wait for the presence of an element before scrolling\u001b[39;00m\n\u001b[0;32m     13\u001b[0m wait \u001b[38;5;241m=\u001b[39m WebDriverWait(driver, \u001b[38;5;241m10\u001b[39m)  \u001b[38;5;66;03m# Maximum wait time of 10 seconds\u001b[39;00m\n\u001b[1;32m---> 14\u001b[0m element_to_wait_for \u001b[38;5;241m=\u001b[39m \u001b[43mwait\u001b[49m\u001b[38;5;241;43m.\u001b[39;49m\u001b[43muntil\u001b[49m\u001b[43m(\u001b[49m\u001b[43mEC\u001b[49m\u001b[38;5;241;43m.\u001b[39;49m\u001b[43mpresence_of_element_located\u001b[49m\u001b[43m(\u001b[49m\u001b[43m(\u001b[49m\u001b[43mBy\u001b[49m\u001b[38;5;241;43m.\u001b[39;49m\u001b[43mID\u001b[49m\u001b[43m,\u001b[49m\u001b[43m \u001b[49m\u001b[38;5;124;43m\"\u001b[39;49m\u001b[38;5;124;43msome_element_id\u001b[39;49m\u001b[38;5;124;43m\"\u001b[39;49m\u001b[43m)\u001b[49m\u001b[43m)\u001b[49m\u001b[43m)\u001b[49m\n\u001b[0;32m     16\u001b[0m \u001b[38;5;66;03m# Scroll to the bottom of the page\u001b[39;00m\n\u001b[0;32m     17\u001b[0m \u001b[38;5;66;03m#driver.execute_script(\"arguments[0].scrollIntoView();\", element_to_wait_for)\u001b[39;00m\n\u001b[0;32m     18\u001b[0m \n\u001b[0;32m     19\u001b[0m \u001b[38;5;66;03m# If the above doesn't work, try using window.scrollTo directly\u001b[39;00m\n\u001b[0;32m     20\u001b[0m driver\u001b[38;5;241m.\u001b[39mexecute_script(\u001b[38;5;124m\"\u001b[39m\u001b[38;5;124mwindow.scrollTo(1, 10000)\u001b[39m\u001b[38;5;124m\"\u001b[39m)\n",
      "File \u001b[1;32mc:\\Users\\zac15\\AppData\\Local\\Programs\\Python\\Python312\\Lib\\site-packages\\selenium\\webdriver\\support\\wait.py:101\u001b[0m, in \u001b[0;36mWebDriverWait.until\u001b[1;34m(self, method, message)\u001b[0m\n\u001b[0;32m     99\u001b[0m     \u001b[38;5;28;01mif\u001b[39;00m time\u001b[38;5;241m.\u001b[39mmonotonic() \u001b[38;5;241m>\u001b[39m end_time:\n\u001b[0;32m    100\u001b[0m         \u001b[38;5;28;01mbreak\u001b[39;00m\n\u001b[1;32m--> 101\u001b[0m \u001b[38;5;28;01mraise\u001b[39;00m TimeoutException(message, screen, stacktrace)\n",
      "\u001b[1;31mTimeoutException\u001b[0m: Message: \nStacktrace:\n\tGetHandleVerifier [0x00007FF6DBE24D02+56194]\n\t(No symbol) [0x00007FF6DBD904B2]\n\t(No symbol) [0x00007FF6DBC376AA]\n\t(No symbol) [0x00007FF6DBC816D0]\n\t(No symbol) [0x00007FF6DBC817EC]\n\t(No symbol) [0x00007FF6DBCC4D77]\n\t(No symbol) [0x00007FF6DBCA5EBF]\n\t(No symbol) [0x00007FF6DBCC2786]\n\t(No symbol) [0x00007FF6DBCA5C23]\n\t(No symbol) [0x00007FF6DBC74A45]\n\t(No symbol) [0x00007FF6DBC75AD4]\n\tGetHandleVerifier [0x00007FF6DC19D5BB+3695675]\n\tGetHandleVerifier [0x00007FF6DC1F6197+4059159]\n\tGetHandleVerifier [0x00007FF6DC1EDF63+4025827]\n\tGetHandleVerifier [0x00007FF6DBEBF029+687785]\n\t(No symbol) [0x00007FF6DBD9B508]\n\t(No symbol) [0x00007FF6DBD97564]\n\t(No symbol) [0x00007FF6DBD976E9]\n\t(No symbol) [0x00007FF6DBD88094]\n\tBaseThreadInitThunk [0x00007FFB9CC7257D+29]\n\tRtlUserThreadStart [0x00007FFB9E36AA58+40]\n"
     ]
    }
   ],
   "source": [
    "from selenium.webdriver.chrome.service import Service\n",
    "from selenium.webdriver.common.by import By\n",
    "from selenium.webdriver.support.ui import WebDriverWait\n",
    "from selenium.webdriver.support import expected_conditions as EC\n",
    "\n",
    "# Assuming you have defined player_stats_url and year earlier\n",
    "driver = webdriver.Chrome()\n",
    "year=1991\n",
    "url = player_stats_url.format(year)\n",
    "driver.get(url)\n",
    "\n",
    "# Use WebDriverWait to wait for the presence of an element before scrolling\n",
    "wait = WebDriverWait(driver, 10)  # Maximum wait time of 10 seconds\n",
    "element_to_wait_for = wait.until(EC.presence_of_element_located((By.ID, \"some_element_id\")))\n",
    "\n",
    "# Scroll to the bottom of the page\n",
    "#driver.execute_script(\"arguments[0].scrollIntoView();\", element_to_wait_for)\n",
    "\n",
    "# If the above doesn't work, try using window.scrollTo directly\n",
    "driver.execute_script(\"window.scrollTo(1, 10000)\")\n",
    "\n",
    "# Give some time for the scrolling to take effect\n",
    "time.sleep(2)\n",
    "\n",
    "# Continue with the rest of your code\n",
    "html = driver.page_source\n",
    "with open(\"player/{}.html\".format(year),\"w+\", encoding='utf-8') as f:\n",
    "    f.write(html)"
   ]
  },
  {
   "cell_type": "code",
   "execution_count": 2,
   "metadata": {},
   "outputs": [],
   "source": [
    "team_stats_url=\"https://www.basketball-reference.com/leagues/NBA_{}_standings.html\""
   ]
  },
  {
   "cell_type": "code",
   "execution_count": 11,
   "metadata": {},
   "outputs": [],
   "source": [
    "import requests\n",
    "for year in years:\n",
    "    url=team_stats_url.format(year)\n",
    "    data=requests.get(url)\n",
    "    with open(\"team/{}.html\".format(year), \"w+\",encoding=\"utf-8\") as f:\n",
    "        f.write(data.text)"
   ]
  },
  {
   "cell_type": "code",
   "execution_count": 30,
   "metadata": {},
   "outputs": [],
   "source": [
    "dfs=[]\n",
    "for year in years:\n",
    "    with open(\"team/{}.html\".format(year),encoding='utf-8') as f:\n",
    "        page=f.read()\n",
    "    \n",
    "    soup=BeautifulSoup(page,\"html.parser\")\n",
    "    soup.find(\"tr\", class_=\"thead\").decompose()\n",
    "    team_table=soup.find(id=\"divs_standings_E\")\n",
    "    team=pd.read_html(StringIO(str(team_table)))[0]\n",
    "    team[\"Year\"]=year\n",
    "    team[\"Team\"]=team[\"Eastern Conference\"]\n",
    "    del team['Eastern Conference']\n",
    "    dfs.append(team)\n",
    "    \n",
    "    soup=BeautifulSoup(page,\"html.parser\")\n",
    "    soup.find(\"tr\", class_=\"thead\").decompose()\n",
    "    team_table=soup.find(id=\"divs_standings_W\")\n",
    "    team=pd.read_html(StringIO(str(team_table)))[0]\n",
    "    team[\"Year\"]=year\n",
    "    team[\"Team\"]=team[\"Western Conference\"]\n",
    "    del team['Western Conference']\n",
    "    dfs.append(team)"
   ]
  },
  {
   "cell_type": "code",
   "execution_count": 31,
   "metadata": {},
   "outputs": [],
   "source": [
    "teams=pd.concat(dfs)"
   ]
  },
  {
   "cell_type": "code",
   "execution_count": 32,
   "metadata": {},
   "outputs": [
    {
     "data": {
      "text/html": [
       "<div>\n",
       "<style scoped>\n",
       "    .dataframe tbody tr th:only-of-type {\n",
       "        vertical-align: middle;\n",
       "    }\n",
       "\n",
       "    .dataframe tbody tr th {\n",
       "        vertical-align: top;\n",
       "    }\n",
       "\n",
       "    .dataframe thead th {\n",
       "        text-align: right;\n",
       "    }\n",
       "</style>\n",
       "<table border=\"1\" class=\"dataframe\">\n",
       "  <thead>\n",
       "    <tr style=\"text-align: right;\">\n",
       "      <th></th>\n",
       "      <th>W</th>\n",
       "      <th>L</th>\n",
       "      <th>W/L%</th>\n",
       "      <th>GB</th>\n",
       "      <th>PS/G</th>\n",
       "      <th>PA/G</th>\n",
       "      <th>SRS</th>\n",
       "      <th>Year</th>\n",
       "      <th>Team</th>\n",
       "    </tr>\n",
       "  </thead>\n",
       "  <tbody>\n",
       "    <tr>\n",
       "      <th>0</th>\n",
       "      <td>56</td>\n",
       "      <td>26</td>\n",
       "      <td>.683</td>\n",
       "      <td>—</td>\n",
       "      <td>111.5</td>\n",
       "      <td>105.7</td>\n",
       "      <td>5.22</td>\n",
       "      <td>1991</td>\n",
       "      <td>Boston Celtics*</td>\n",
       "    </tr>\n",
       "    <tr>\n",
       "      <th>1</th>\n",
       "      <td>44</td>\n",
       "      <td>38</td>\n",
       "      <td>.537</td>\n",
       "      <td>12.0</td>\n",
       "      <td>105.4</td>\n",
       "      <td>105.6</td>\n",
       "      <td>-0.39</td>\n",
       "      <td>1991</td>\n",
       "      <td>Philadelphia 76ers*</td>\n",
       "    </tr>\n",
       "    <tr>\n",
       "      <th>2</th>\n",
       "      <td>39</td>\n",
       "      <td>43</td>\n",
       "      <td>.476</td>\n",
       "      <td>17.0</td>\n",
       "      <td>103.1</td>\n",
       "      <td>103.3</td>\n",
       "      <td>-0.43</td>\n",
       "      <td>1991</td>\n",
       "      <td>New York Knicks*</td>\n",
       "    </tr>\n",
       "    <tr>\n",
       "      <th>3</th>\n",
       "      <td>30</td>\n",
       "      <td>52</td>\n",
       "      <td>.366</td>\n",
       "      <td>26.0</td>\n",
       "      <td>101.4</td>\n",
       "      <td>106.4</td>\n",
       "      <td>-4.84</td>\n",
       "      <td>1991</td>\n",
       "      <td>Washington Bullets</td>\n",
       "    </tr>\n",
       "    <tr>\n",
       "      <th>4</th>\n",
       "      <td>26</td>\n",
       "      <td>56</td>\n",
       "      <td>.317</td>\n",
       "      <td>30.0</td>\n",
       "      <td>102.9</td>\n",
       "      <td>107.5</td>\n",
       "      <td>-4.53</td>\n",
       "      <td>1991</td>\n",
       "      <td>New Jersey Nets</td>\n",
       "    </tr>\n",
       "    <tr>\n",
       "      <th>...</th>\n",
       "      <td>...</td>\n",
       "      <td>...</td>\n",
       "      <td>...</td>\n",
       "      <td>...</td>\n",
       "      <td>...</td>\n",
       "      <td>...</td>\n",
       "      <td>...</td>\n",
       "      <td>...</td>\n",
       "      <td>...</td>\n",
       "    </tr>\n",
       "    <tr>\n",
       "      <th>13</th>\n",
       "      <td>51</td>\n",
       "      <td>31</td>\n",
       "      <td>.622</td>\n",
       "      <td>—</td>\n",
       "      <td>116.9</td>\n",
       "      <td>113.0</td>\n",
       "      <td>3.60</td>\n",
       "      <td>2023</td>\n",
       "      <td>Memphis Grizzlies*</td>\n",
       "    </tr>\n",
       "    <tr>\n",
       "      <th>14</th>\n",
       "      <td>42</td>\n",
       "      <td>40</td>\n",
       "      <td>.512</td>\n",
       "      <td>9.0</td>\n",
       "      <td>114.4</td>\n",
       "      <td>112.5</td>\n",
       "      <td>1.63</td>\n",
       "      <td>2023</td>\n",
       "      <td>New Orleans Pelicans*</td>\n",
       "    </tr>\n",
       "    <tr>\n",
       "      <th>15</th>\n",
       "      <td>38</td>\n",
       "      <td>44</td>\n",
       "      <td>.463</td>\n",
       "      <td>13.0</td>\n",
       "      <td>114.2</td>\n",
       "      <td>114.1</td>\n",
       "      <td>-0.14</td>\n",
       "      <td>2023</td>\n",
       "      <td>Dallas Mavericks</td>\n",
       "    </tr>\n",
       "    <tr>\n",
       "      <th>16</th>\n",
       "      <td>22</td>\n",
       "      <td>60</td>\n",
       "      <td>.268</td>\n",
       "      <td>29.0</td>\n",
       "      <td>110.7</td>\n",
       "      <td>118.6</td>\n",
       "      <td>-7.62</td>\n",
       "      <td>2023</td>\n",
       "      <td>Houston Rockets</td>\n",
       "    </tr>\n",
       "    <tr>\n",
       "      <th>17</th>\n",
       "      <td>22</td>\n",
       "      <td>60</td>\n",
       "      <td>.268</td>\n",
       "      <td>29.0</td>\n",
       "      <td>113.0</td>\n",
       "      <td>123.1</td>\n",
       "      <td>-9.82</td>\n",
       "      <td>2023</td>\n",
       "      <td>San Antonio Spurs</td>\n",
       "    </tr>\n",
       "  </tbody>\n",
       "</table>\n",
       "<p>1103 rows × 9 columns</p>\n",
       "</div>"
      ],
      "text/plain": [
       "     W   L  W/L%    GB   PS/G   PA/G    SRS  Year                   Team\n",
       "0   56  26  .683     —  111.5  105.7   5.22  1991        Boston Celtics*\n",
       "1   44  38  .537  12.0  105.4  105.6  -0.39  1991    Philadelphia 76ers*\n",
       "2   39  43  .476  17.0  103.1  103.3  -0.43  1991       New York Knicks*\n",
       "3   30  52  .366  26.0  101.4  106.4  -4.84  1991     Washington Bullets\n",
       "4   26  56  .317  30.0  102.9  107.5  -4.53  1991        New Jersey Nets\n",
       "..  ..  ..   ...   ...    ...    ...    ...   ...                    ...\n",
       "13  51  31  .622     —  116.9  113.0   3.60  2023     Memphis Grizzlies*\n",
       "14  42  40  .512   9.0  114.4  112.5   1.63  2023  New Orleans Pelicans*\n",
       "15  38  44  .463  13.0  114.2  114.1  -0.14  2023       Dallas Mavericks\n",
       "16  22  60  .268  29.0  110.7  118.6  -7.62  2023        Houston Rockets\n",
       "17  22  60  .268  29.0  113.0  123.1  -9.82  2023      San Antonio Spurs\n",
       "\n",
       "[1103 rows x 9 columns]"
      ]
     },
     "execution_count": 32,
     "metadata": {},
     "output_type": "execute_result"
    }
   ],
   "source": [
    "teams"
   ]
  },
  {
   "cell_type": "code",
   "execution_count": 33,
   "metadata": {},
   "outputs": [],
   "source": [
    "teams.to_csv(\"teams.csv\")"
   ]
  },
  {
   "cell_type": "code",
   "execution_count": null,
   "metadata": {},
   "outputs": [],
   "source": []
  }
 ],
 "metadata": {
  "kernelspec": {
   "display_name": "Python 3 (ipykernel)",
   "language": "python",
   "name": "python3"
  },
  "language_info": {
   "codemirror_mode": {
    "name": "ipython",
    "version": 3
   },
   "file_extension": ".py",
   "mimetype": "text/x-python",
   "name": "python",
   "nbconvert_exporter": "python",
   "pygments_lexer": "ipython3",
   "version": "3.12.0"
  }
 },
 "nbformat": 4,
 "nbformat_minor": 4
}
